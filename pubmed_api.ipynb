{
  "cells": [
    {
      "cell_type": "markdown",
      "source": [
        "# Preparation"
      ],
      "metadata": {
        "id": "hDQM44MmPaWE"
      },
      "id": "hDQM44MmPaWE"
    },
    {
      "cell_type": "code",
      "execution_count": null,
      "id": "25ed11b7",
      "metadata": {
        "execution": {
          "iopub.execute_input": "2022-05-28T14:48:49.722436Z",
          "iopub.status.busy": "2022-05-28T14:48:49.721819Z",
          "iopub.status.idle": "2022-05-28T14:49:04.380114Z",
          "shell.execute_reply": "2022-05-28T14:49:04.379353Z"
        },
        "papermill": {
          "duration": 14.671525,
          "end_time": "2022-05-28T14:49:04.382578",
          "exception": false,
          "start_time": "2022-05-28T14:48:49.711053",
          "status": "completed"
        },
        "tags": [],
        "colab": {
          "base_uri": "https://localhost:8080/"
        },
        "collapsed": true,
        "id": "25ed11b7",
        "outputId": "d230be6b-a215-428c-c718-d9e1c6d9e0d7"
      },
      "outputs": [
        {
          "output_type": "stream",
          "name": "stdout",
          "text": [
            "Looking in indexes: https://pypi.org/simple, https://us-python.pkg.dev/colab-wheels/public/simple/\n",
            "Requirement already satisfied: openpyxl in /usr/local/lib/python3.7/dist-packages (3.0.10)\n",
            "Requirement already satisfied: et-xmlfile in /usr/local/lib/python3.7/dist-packages (from openpyxl) (1.1.0)\n"
          ]
        }
      ],
      "source": [
        "#@title\n",
        "!pip install openpyxl"
      ]
    },
    {
      "cell_type": "code",
      "execution_count": null,
      "id": "37f6421d",
      "metadata": {
        "_cell_guid": "b1076dfc-b9ad-4769-8c92-a6c4dae69d19",
        "_uuid": "8f2839f25d086af736a60e9eeb907d3b93b6e0e5",
        "execution": {
          "iopub.execute_input": "2022-05-28T14:49:04.414335Z",
          "iopub.status.busy": "2022-05-28T14:49:04.414036Z",
          "iopub.status.idle": "2022-05-28T14:49:04.418997Z",
          "shell.execute_reply": "2022-05-28T14:49:04.418167Z"
        },
        "papermill": {
          "duration": 0.023015,
          "end_time": "2022-05-28T14:49:04.420835",
          "exception": false,
          "start_time": "2022-05-28T14:49:04.397820",
          "status": "completed"
        },
        "tags": [],
        "id": "37f6421d"
      },
      "outputs": [],
      "source": [
        "#@title\n",
        "import requests\n",
        "import xml.etree.ElementTree as et\n",
        "import pandas as pd\n",
        "import datetime\n",
        "from collections import OrderedDict\n",
        "import os\n",
        "import time\n",
        "from google.colab import files"
      ]
    },
    {
      "cell_type": "code",
      "execution_count": null,
      "id": "d2b12227",
      "metadata": {
        "execution": {
          "iopub.execute_input": "2022-05-28T14:49:04.491872Z",
          "iopub.status.busy": "2022-05-28T14:49:04.491315Z",
          "iopub.status.idle": "2022-05-28T14:49:04.520445Z",
          "shell.execute_reply": "2022-05-28T14:49:04.519628Z"
        },
        "papermill": {
          "duration": 0.047648,
          "end_time": "2022-05-28T14:49:04.522576",
          "exception": false,
          "start_time": "2022-05-28T14:49:04.474928",
          "status": "completed"
        },
        "tags": [],
        "colab": {
          "base_uri": "https://localhost:8080/",
          "height": 72
        },
        "id": "d2b12227",
        "outputId": "c224ab1b-a95d-44cc-f86c-a31318c87a07"
      },
      "outputs": [
        {
          "output_type": "execute_result",
          "data": {
            "text/plain": [
              "'\\n# check structure of retrived data\\n# https://stackoverflow.com/questions/28194703/recursive-xml-parsing-python-using-elementtree\\nindent = 0\\ndef printRecur(root):\\n    global indent\\n    \"\"\"Recursively prints the tree.\"\"\"\\n    print(\\' \\'*indent + \\'%s: %s\\' % (root.tag, root.attrib.get(\\'name\\', root.text)))\\n    indent += 4\\n    for elem in root.getchildren():\\n        printRecur(elem)\\n    indent -= 4\\n\\n'"
            ],
            "application/vnd.google.colaboratory.intrinsic+json": {
              "type": "string"
            }
          },
          "metadata": {},
          "execution_count": 3
        }
      ],
      "source": [
        "# there are many html tags in abstract which hamper xml parsing\n",
        "# list is taken from https://www.w3schools.com/html/html_formatting.asp\n",
        "# but there  might still be some leftovers\n",
        "'''\n",
        "    <b> - Bold text\n",
        "    <strong> - Important text\n",
        "    <i> - Italic text\n",
        "    <em> - Emphasized text\n",
        "    <mark> - Marked text\n",
        "    <small> - Smaller text\n",
        "    <del> - Deleted text\n",
        "    <ins> - Inserted text\n",
        "    <sub> - Subscript text\n",
        "    <sup> - Superscript text\n",
        "'''\n",
        "ignore_tags = ['i', 'b', 'sub', 'sup', 'em', 'strong', 'small', 'mark', 'del', 'ins']\n",
        "def getXMLfromURL(url, params, ignore_tags = ignore_tags):\n",
        "    res_text = requests.get(url, params).text\n",
        "    for ignore_tag in ignore_tags:\n",
        "        res_text = \\\n",
        "            res_text.replace('<'+ignore_tag+'>', '').replace('</'+ignore_tag+'>', '')\n",
        "    root = et.fromstring(res_text.encode(\"utf-8\"))\n",
        "    # root = et.fromstring(res.text)\n",
        "    return root\n",
        "\n",
        "def getTextFromNode(root, path, fill_none = '', sep = ', ', concat = False):\n",
        "    def _concat():\n",
        "        return sep.join([elem.text if elem.text is not None else ' ' \\\n",
        "                         for elem in root.findall(path)]) \n",
        "    if (root.find(path) == None):\n",
        "        return fill_none\n",
        "    if (concat == True):\n",
        "        return _concat()\n",
        "    else:\n",
        "        return root.find(path).text\n",
        "\n",
        "''' some artcles do not have PubDate so use DateCompleted instead\n",
        "def parsePublicationDate(article, sep = '/'):\n",
        "    # parse publication date\n",
        "    _yr = getTextFromNode(article, 'MedlineCitation/Article/Journal/JournalIssue/PubDate/Year')\n",
        "    _mth = str(datetime.datetime.strptime(\\\n",
        "            getTextFromNode(article, 'MedlineCitation/Article/Journal/JournalIssue/PubDate/Month'), '%b').month)\n",
        "    _d = getTextFromNode(article, 'MedlineCitation/Article/Journal/JournalIssue/PubDate/Day')\n",
        "    dt = sep.join([_yr, _mth, _d])\n",
        "    \n",
        "    return dt\n",
        "'''\n",
        "\n",
        "def parseAuthors(article, sep = ', '):\n",
        "    # parse authors\n",
        "    authors = []\n",
        "    for author in article.findall('MedlineCitation/Article/AuthorList/'):\n",
        "        authors.append(getTextFromNode(author, 'ForeName') + ' ' +  getTextFromNode(author,'LastName'))\n",
        "    return sep.join(authors)\n",
        "\n",
        "def parseData(root):\n",
        "    articleDics = []\n",
        "    for article in root.iter('PubmedArticle'):\n",
        "        # get article info\n",
        "        articleDic = {\n",
        "            'PMID'                    : getTextFromNode(article, 'MedlineCitation/PMID'),\n",
        "            'JournalTitle'            : getTextFromNode(article, 'MedlineCitation/Article/Journal/Title'),\n",
        "            'Title'                   : getTextFromNode(article, 'MedlineCitation/Article/ArticleTitle'),\n",
        "            'Abstract'                : getTextFromNode(article, 'MedlineCitation/Article/Abstract/AbstractText', concat = True),\n",
        "            'Publication Date'        : getTextFromNode(article, 'MedlineCitation/DateCompleted/Year'),\n",
        "            'Chemical'                : getTextFromNode(article, 'MedlineCitation/ChemicalList/Chemical/NameOfSubstance', concat = True),\n",
        "            'MeSH'                    : getTextFromNode(article, 'MedlineCitation/MeshHeadingList/MeshHeading/DescriptorName', concat = True),\n",
        "            'doi'                     : getTextFromNode(article, 'MedlineCitation/Article/ELocationID'),\n",
        "            'authors'                 : parseAuthors(article),\n",
        "            'keywords'                : getTextFromNode(article, 'MedlineCitation/KeywordList/Keyword', concat = True),\n",
        "        }\n",
        "        articleDics.append(OrderedDict(articleDic))\n",
        "    return articleDics\n",
        "\n",
        "def pullData(term):\n",
        "    search_params = {\n",
        "    \"db\": SOURCE_DB,\n",
        "    \"term\": term,\n",
        "    \"usehistory\": \"y\",\n",
        "    \"retmode\" : \"xml\",\n",
        "    }\n",
        "    \n",
        "    root_search = getXMLfromURL(SEARCH_URL, params = search_params)\n",
        "    \n",
        "    print(f'query translation:')\n",
        "    print(f'{root_search.find(\"QueryTranslation\").text}')\n",
        "    print(f'{root_search.find(\"Count\").text} results found')\n",
        "    \n",
        "    fetch_params = {\n",
        "        \"db\" : \"pubmed\",\n",
        "        \"query_key\" : root_search.findtext(\"QueryKey\"),\n",
        "        \"WebEnv\" : root_search.findtext(\"WebEnv\"),\n",
        "        \"retmode\" : \"xml\",\n",
        "    }\n",
        "    root_res = getXMLfromURL(FETCH_URL, params = fetch_params)\n",
        "    # printRecur(root_res)\n",
        "    res_dict = parseData(root_res)\n",
        "    res_df = pd.DataFrame.from_dict(res_dict)\n",
        "    time.sleep(.5)\n",
        "    return res_df\n",
        "    \n",
        "    \n",
        "'''\n",
        "# https://qiita.com/nomurasan/items/78d0174977bb61a52808\n",
        "def xml2df(xml_data):\n",
        "    root = ET.XML(xml_data) # element tree\n",
        "    all_records = []\n",
        "    for i, child in enumerate(root):\n",
        "        record = {}\n",
        "        for subchild in child:\n",
        "            record[subchild.tag] = subchild.text\n",
        "        all_records.append(record)\n",
        "    df = pd.DataFrame(all_records)\n",
        "    return df\n",
        "'''\n",
        "\n",
        "'''\n",
        "# check structure of retrived data\n",
        "# https://stackoverflow.com/questions/28194703/recursive-xml-parsing-python-using-elementtree\n",
        "indent = 0\n",
        "def printRecur(root):\n",
        "    global indent\n",
        "    \"\"\"Recursively prints the tree.\"\"\"\n",
        "    print(' '*indent + '%s: %s' % (root.tag, root.attrib.get('name', root.text)))\n",
        "    indent += 4\n",
        "    for elem in root.getchildren():\n",
        "        printRecur(elem)\n",
        "    indent -= 4\n",
        "\n",
        "'''"
      ]
    },
    {
      "cell_type": "markdown",
      "source": [
        "# Queries"
      ],
      "metadata": {
        "id": "rThTLI2m6csc"
      },
      "id": "rThTLI2m6csc"
    },
    {
      "cell_type": "markdown",
      "source": [
        "- QUERIES, TARGETS, FILTERS: list of string(s) separated by ' , '; <br>\n",
        "    search terms are generated by combination of each term from {QUERIES} and {TARGETS} and {FILTERS}<br>\n",
        "    ex. <br>\n",
        "    QUERIES = \"Ginkgo, CoQ10\"<br>\n",
        "    TARGETS = \"hearing loss, tinnitus\"<br>\n",
        "    FILTERS = \"clinical trial[pt], animal[Filter]\"\n",
        "- OUT_XLSX_NAME: filename of the output xlsx\n",
        "    \n"
      ],
      "metadata": {
        "id": "872SpNoRiAbP"
      },
      "id": "872SpNoRiAbP"
    },
    {
      "cell_type": "code",
      "execution_count": null,
      "id": "9bbfaaf9",
      "metadata": {
        "execution": {
          "iopub.execute_input": "2022-05-28T14:49:04.452578Z",
          "iopub.status.busy": "2022-05-28T14:49:04.452276Z",
          "iopub.status.idle": "2022-05-28T14:49:04.458068Z",
          "shell.execute_reply": "2022-05-28T14:49:04.457473Z"
        },
        "papermill": {
          "duration": 0.023824,
          "end_time": "2022-05-28T14:49:04.460020",
          "exception": false,
          "start_time": "2022-05-28T14:49:04.436196",
          "status": "completed"
        },
        "tags": [],
        "cellView": "form",
        "id": "9bbfaaf9"
      },
      "outputs": [],
      "source": [
        "SEARCH_URL = 'https://eutils.ncbi.nlm.nih.gov/entrez/eutils/esearch.fcgi'\n",
        "FETCH_URL = 'https://eutils.ncbi.nlm.nih.gov/entrez/eutils/efetch.fcgi'\n",
        "SOURCE_DB = 'pubmed'\n",
        "\n",
        "QUERIES = \"Ginkgo, CoQ10, N-acetyl-cysteine, melatonin, glucocorticoid\" #@param {type:\"string\"}\n",
        "QUERIES = QUERIES.replace(', ', ',').split(',')\n",
        "TARGETS = \"hearing loss\" #@param {type:\"string\"}\n",
        "TARGETS = TARGETS.replace(', ', ',').split(',')\n",
        "FILTERS = \"clinical trial[pt], animal[Filter]\" #@param {type:\"string\"}\n",
        "FILTERS = FILTERS.replace(', ', ',').split(',')\n",
        "OUT_XLSX_NAME = 'Some_PubMed_Summary'#@param {type:\"string\"}"
      ]
    },
    {
      "cell_type": "markdown",
      "source": [
        "# Fetch"
      ],
      "metadata": {
        "id": "F7xAluAv1No7"
      },
      "id": "F7xAluAv1No7"
    },
    {
      "cell_type": "code",
      "execution_count": null,
      "id": "c3b4cb92",
      "metadata": {
        "execution": {
          "iopub.execute_input": "2022-05-28T14:49:04.555294Z",
          "iopub.status.busy": "2022-05-28T14:49:04.554760Z",
          "iopub.status.idle": "2022-05-28T14:49:36.054358Z",
          "shell.execute_reply": "2022-05-28T14:49:36.053410Z"
        },
        "papermill": {
          "duration": 31.518671,
          "end_time": "2022-05-28T14:49:36.056954",
          "exception": false,
          "start_time": "2022-05-28T14:49:04.538283",
          "status": "completed"
        },
        "tags": [],
        "colab": {
          "base_uri": "https://localhost:8080/"
        },
        "id": "c3b4cb92",
        "outputId": "856980ac-6a79-4caf-923d-164cd208aed8"
      },
      "outputs": [
        {
          "output_type": "stream",
          "name": "stdout",
          "text": [
            "query translation:\n",
            "(\"hearing loss\"[MeSH Terms] OR (\"hearing\"[All Fields] AND \"loss\"[All Fields]) OR \"hearing loss\"[All Fields]) AND (\"ginkgo biloba\"[MeSH Terms] OR (\"ginkgo\"[All Fields] AND \"biloba\"[All Fields]) OR \"ginkgo biloba\"[All Fields] OR \"ginkgo\"[All Fields]) AND clinical trial[pt]\n",
            "17 results found\n"
          ]
        },
        {
          "output_type": "stream",
          "name": "stderr",
          "text": [
            "/usr/local/lib/python3.7/dist-packages/openpyxl/workbook/child.py:99: UserWarning: Title is more than 31 characters. Some applications may not be able to read the file\n",
            "  warnings.warn(\"Title is more than 31 characters. Some applications may not be able to read the file\")\n"
          ]
        },
        {
          "output_type": "stream",
          "name": "stdout",
          "text": [
            "query translation:\n",
            "(\"hearing loss\"[MeSH Terms] OR (\"hearing\"[All Fields] AND \"loss\"[All Fields]) OR \"hearing loss\"[All Fields]) AND (\"ginkgo biloba\"[MeSH Terms] OR (\"ginkgo\"[All Fields] AND \"biloba\"[All Fields]) OR \"ginkgo biloba\"[All Fields] OR \"ginkgo\"[All Fields]) AND animal[Filter]\n",
            "22 results found\n",
            "query translation:\n",
            "(\"hearing loss\"[MeSH Terms] OR (\"hearing\"[All Fields] AND \"loss\"[All Fields]) OR \"hearing loss\"[All Fields]) AND (\"coenzyme Q10\"[Supplementary Concept] OR \"coenzyme Q10\"[All Fields] OR \"coq10\"[All Fields] OR \"ubiquinone\"[MeSH Terms] OR \"ubiquinone\"[All Fields]) AND clinical trial[pt]\n",
            "4 results found\n",
            "query translation:\n",
            "(\"hearing loss\"[MeSH Terms] OR (\"hearing\"[All Fields] AND \"loss\"[All Fields]) OR \"hearing loss\"[All Fields]) AND (\"coenzyme Q10\"[Supplementary Concept] OR \"coenzyme Q10\"[All Fields] OR \"coq10\"[All Fields] OR \"ubiquinone\"[MeSH Terms] OR \"ubiquinone\"[All Fields]) AND animal[Filter]\n",
            "22 results found\n",
            "query translation:\n",
            "(\"hearing loss\"[MeSH Terms] OR (\"hearing\"[All Fields] AND \"loss\"[All Fields]) OR \"hearing loss\"[All Fields]) AND (\"acetylcysteine\"[MeSH Terms] OR \"acetylcysteine\"[All Fields] OR \"n acetyl cysteine\"[All Fields]) AND clinical trial[pt]\n",
            "14 results found\n",
            "query translation:\n",
            "(\"hearing loss\"[MeSH Terms] OR (\"hearing\"[All Fields] AND \"loss\"[All Fields]) OR \"hearing loss\"[All Fields]) AND (\"acetylcysteine\"[MeSH Terms] OR \"acetylcysteine\"[All Fields] OR \"n acetyl cysteine\"[All Fields]) AND animal[Filter]\n",
            "72 results found\n",
            "query translation:\n",
            "(\"hearing loss\"[MeSH Terms] OR (\"hearing\"[All Fields] AND \"loss\"[All Fields]) OR \"hearing loss\"[All Fields]) AND (\"melatonin\"[MeSH Terms] OR \"melatonin\"[All Fields]) AND clinical trial[pt]\n",
            "2 results found\n",
            "query translation:\n",
            "(\"hearing loss\"[MeSH Terms] OR (\"hearing\"[All Fields] AND \"loss\"[All Fields]) OR \"hearing loss\"[All Fields]) AND (\"melatonin\"[MeSH Terms] OR \"melatonin\"[All Fields]) AND animal[Filter]\n",
            "13 results found\n",
            "query translation:\n",
            "(\"hearing loss\"[MeSH Terms] OR (\"hearing\"[All Fields] AND \"loss\"[All Fields]) OR \"hearing loss\"[All Fields]) AND (\"glucocorticoids\"[Pharmacological Action] OR \"glucocorticoids\"[MeSH Terms] OR \"glucocorticoids\"[All Fields] OR \"glucocorticoid\"[All Fields]) AND clinical trial[pt]\n",
            "182 results found\n",
            "query translation:\n",
            "(\"hearing loss\"[MeSH Terms] OR (\"hearing\"[All Fields] AND \"loss\"[All Fields]) OR \"hearing loss\"[All Fields]) AND (\"glucocorticoids\"[Pharmacological Action] OR \"glucocorticoids\"[MeSH Terms] OR \"glucocorticoids\"[All Fields] OR \"glucocorticoid\"[All Fields]) AND animal[Filter]\n",
            "250 results found\n"
          ]
        }
      ],
      "source": [
        "os.makedirs('/content/OUTPUT/', exist_ok = True)\n",
        "with pd.ExcelWriter(f'/content/OUTPUT/{OUT_XLSX_NAME}.xlsx', mode = 'w') as writer:\n",
        "    for t in TARGETS:\n",
        "        for q in QUERIES:\n",
        "            for f in FILTERS:\n",
        "                res_df = pullData(f'{t} AND {q} AND {f}')\n",
        "                # remove filter tag\n",
        "                f = f[:f.find('[')]\n",
        "                res_df.to_csv(f'/content/OUTPUT/{t}_{q}_{f}.csv', index = False, encoding='utf_8_sig')\n",
        "                res_df.to_excel(writer, sheet_name = f'{t}_{q}_{f}', index = False, encoding='utf_8_sig')"
      ]
    },
    {
      "cell_type": "code",
      "source": [
        "!zip -j -r /content/output.zip /content/OUTPUT/\n",
        "\n",
        "files.download(\"/content/output.zip\")"
      ],
      "metadata": {
        "colab": {
          "base_uri": "https://localhost:8080/",
          "height": 216
        },
        "id": "ew_hqcKy8MG9",
        "outputId": "70b2f5a7-9cc3-461c-bfcb-8c30c2f0f511"
      },
      "id": "ew_hqcKy8MG9",
      "execution_count": null,
      "outputs": [
        {
          "output_type": "stream",
          "name": "stdout",
          "text": [
            "  adding: hearing loss_CoQ10_animal.csv (deflated 66%)\n",
            "  adding: hearing loss_melatonin_animal.csv (deflated 65%)\n",
            "  adding: hearing loss_glucocorticoid_clinical trial.csv (deflated 71%)\n",
            "  adding: hearing loss_CoQ10_clinical trial.csv (deflated 64%)\n",
            "  adding: hearing loss_N-acetyl-cysteine_clinical trial.csv (deflated 65%)\n",
            "  adding: hearing loss_glucocorticoid_animal.csv (deflated 70%)\n",
            "  adding: hearing loss_N-acetyl-cysteine_animal.csv (deflated 69%)\n",
            "  adding: PosCont_Supplement_PubMed_Summary.xlsx (deflated 0%)\n",
            "  adding: hearing loss_Ginkgo_animal.csv (deflated 66%)\n",
            "  adding: hearing loss_Ginkgo_clinical trial.csv (deflated 67%)\n",
            "  adding: hearing loss_melatonin_clinical trial.csv (deflated 53%)\n"
          ]
        },
        {
          "output_type": "display_data",
          "data": {
            "text/plain": [
              "<IPython.core.display.Javascript object>"
            ],
            "application/javascript": [
              "\n",
              "    async function download(id, filename, size) {\n",
              "      if (!google.colab.kernel.accessAllowed) {\n",
              "        return;\n",
              "      }\n",
              "      const div = document.createElement('div');\n",
              "      const label = document.createElement('label');\n",
              "      label.textContent = `Downloading \"${filename}\": `;\n",
              "      div.appendChild(label);\n",
              "      const progress = document.createElement('progress');\n",
              "      progress.max = size;\n",
              "      div.appendChild(progress);\n",
              "      document.body.appendChild(div);\n",
              "\n",
              "      const buffers = [];\n",
              "      let downloaded = 0;\n",
              "\n",
              "      const channel = await google.colab.kernel.comms.open(id);\n",
              "      // Send a message to notify the kernel that we're ready.\n",
              "      channel.send({})\n",
              "\n",
              "      for await (const message of channel.messages) {\n",
              "        // Send a message to notify the kernel that we're ready.\n",
              "        channel.send({})\n",
              "        if (message.buffers) {\n",
              "          for (const buffer of message.buffers) {\n",
              "            buffers.push(buffer);\n",
              "            downloaded += buffer.byteLength;\n",
              "            progress.value = downloaded;\n",
              "          }\n",
              "        }\n",
              "      }\n",
              "      const blob = new Blob(buffers, {type: 'application/binary'});\n",
              "      const a = document.createElement('a');\n",
              "      a.href = window.URL.createObjectURL(blob);\n",
              "      a.download = filename;\n",
              "      div.appendChild(a);\n",
              "      a.click();\n",
              "      div.remove();\n",
              "    }\n",
              "  "
            ]
          },
          "metadata": {}
        },
        {
          "output_type": "display_data",
          "data": {
            "text/plain": [
              "<IPython.core.display.Javascript object>"
            ],
            "application/javascript": [
              "download(\"download_01f79f75-3a89-486e-aa40-d5d9239d0f7b\", \"output.zip\", 836081)"
            ]
          },
          "metadata": {}
        }
      ]
    },
    {
      "cell_type": "code",
      "execution_count": null,
      "id": "66f5aa6a",
      "metadata": {
        "execution": {
          "iopub.execute_input": "2022-05-28T14:49:36.098039Z",
          "iopub.status.busy": "2022-05-28T14:49:36.097239Z",
          "iopub.status.idle": "2022-05-28T14:49:36.104644Z",
          "shell.execute_reply": "2022-05-28T14:49:36.103801Z"
        },
        "papermill": {
          "duration": 0.030117,
          "end_time": "2022-05-28T14:49:36.106604",
          "exception": false,
          "start_time": "2022-05-28T14:49:36.076487",
          "status": "completed"
        },
        "tags": [],
        "colab": {
          "base_uri": "https://localhost:8080/",
          "height": 144
        },
        "id": "66f5aa6a",
        "outputId": "0d27fe61-83f7-4aa7-fe24-8ab5df956781"
      },
      "outputs": [
        {
          "output_type": "execute_result",
          "data": {
            "text/plain": [
              "'\\n# debugging\\n\\nsearch_params = {\\n\"db\": SOURCE_DB,\\n\"term\": \\'\"hearing loss\" AND CoQ10 AND (animal[Filter])\\',\\n\"usehistory\": \"y\",\\n\"retmode\" : \"xml\",\\n}\\n    \\nroot_search = getXMLfromURL(SEARCH_URL, params = search_params)\\n\\nprint(f\\'query translation:\\')\\nprint(f\\'{root_search.find(\"QueryTranslation\").text}\\')\\nprint(f\\'{root_search.find(\"Count\").text} results found\\')\\n\\nfetch_params = {\\n    \"db\" : \"pubmed\",\\n    \"query_key\" : root_search.findtext(\"QueryKey\"),\\n    \"WebEnv\" : root_search.findtext(\"WebEnv\"),\\n    \"retmode\" : \"xml\",\\n}\\n\\nres_text = requests.get(FETCH_URL, params = fetch_params).text\\n\\nignore_tags = [\\'i\\', \\'b\\']\\nfor ignore_tag in ignore_tags:\\n    res_text =         res_text.replace(\\'<\\'+ignore_tag+\\'>\\', \\'\\').replace(\\'</\\'+ignore_tag+\\'>\\', \\'\\')\\n\\nroot = et.fromstring(res_text.encode(\"utf-8\"))\\nres_dict = parseData(root)\\nres_df = pd.DataFrame.from_dict(res_dict)\\n'"
            ],
            "application/vnd.google.colaboratory.intrinsic+json": {
              "type": "string"
            }
          },
          "metadata": {},
          "execution_count": 7
        }
      ],
      "source": [
        "#@title\n",
        "'''\n",
        "# debugging\n",
        "\n",
        "search_params = {\n",
        "\"db\": SOURCE_DB,\n",
        "\"term\": '\"hearing loss\" AND CoQ10 AND (animal[Filter])',\n",
        "\"usehistory\": \"y\",\n",
        "\"retmode\" : \"xml\",\n",
        "}\n",
        "    \n",
        "root_search = getXMLfromURL(SEARCH_URL, params = search_params)\n",
        "\n",
        "print(f'query translation:')\n",
        "print(f'{root_search.find(\"QueryTranslation\").text}')\n",
        "print(f'{root_search.find(\"Count\").text} results found')\n",
        "\n",
        "fetch_params = {\n",
        "    \"db\" : \"pubmed\",\n",
        "    \"query_key\" : root_search.findtext(\"QueryKey\"),\n",
        "    \"WebEnv\" : root_search.findtext(\"WebEnv\"),\n",
        "    \"retmode\" : \"xml\",\n",
        "}\n",
        "\n",
        "res_text = requests.get(FETCH_URL, params = fetch_params).text\n",
        "\n",
        "ignore_tags = ['i', 'b']\n",
        "for ignore_tag in ignore_tags:\n",
        "    res_text = \\\n",
        "        res_text.replace('<'+ignore_tag+'>', '').replace('</'+ignore_tag+'>', '')\n",
        "\n",
        "root = et.fromstring(res_text.encode(\"utf-8\"))\n",
        "res_dict = parseData(root)\n",
        "res_df = pd.DataFrame.from_dict(res_dict)\n",
        "'''"
      ]
    },
    {
      "cell_type": "markdown",
      "source": [
        "# Reference"
      ],
      "metadata": {
        "id": "ot5bYpuZ1evu"
      },
      "id": "ot5bYpuZ1evu"
    },
    {
      "cell_type": "markdown",
      "id": "900c3628",
      "metadata": {
        "papermill": {
          "duration": 0.010561,
          "end_time": "2022-05-28T14:48:49.701247",
          "exception": false,
          "start_time": "2022-05-28T14:48:49.690686",
          "status": "completed"
        },
        "tags": [],
        "id": "900c3628"
      },
      "source": [
        "- [PubMed APIの概要、データ取得、シンプルなEDA、及びクラスタリング(Python)](https://qiita.com/iwashi-kun/items/bd0d772c6db0c0023e30#:~:text=PubMed%20API%E3%81%A8%E3%81%AF&text=NCBI%E3%81%8C%E9%96%8B%E7%99%BA%E3%83%BB%E9%81%8B%E7%94%A8%E3%81%97,%E3%81%A8%E3%81%97%E3%81%A6%E6%8F%90%E4%BE%9B%E3%81%95%E3%82%8C%E3%81%A6%E3%81%84%E3%81%BE%E3%81%99%E3%80%82)\n",
        "- [PubMed APIのまとめ](https://yubais.net/doc/pubmed_api/)\n",
        "- [【PubMed API】Entrez Programming Utilities の使い方](https://www.y-shinno.com/pubmed-api/#toc6)\n",
        "- [PubMed API Python script](https://nbviewer.org/github/tatsuya-takahashi/PubMed-API-Script/blob/master/PubMed.ipynb)\n",
        "- [PubMed の使い方](https://www.lib.m.u-tokyo.ac.jp/manual/pubmedmanual.pdf)\n",
        "- [The E-utilities In-Depth: Parameters, Syntax and More. 2009 May 29 [Updated 2021 Apr 15]. In: Entrez Programming Utilities Help [Internet]. ](https://www.ncbi.nlm.nih.gov/books/NBK25499/)"
      ]
    }
  ],
  "metadata": {
    "kernelspec": {
      "display_name": "Python 3",
      "language": "python",
      "name": "python3"
    },
    "language_info": {
      "codemirror_mode": {
        "name": "ipython",
        "version": 3
      },
      "file_extension": ".py",
      "mimetype": "text/x-python",
      "name": "python",
      "nbconvert_exporter": "python",
      "pygments_lexer": "ipython3",
      "version": "3.7.12"
    },
    "papermill": {
      "default_parameters": {},
      "duration": 56.774492,
      "end_time": "2022-05-28T14:49:36.886760",
      "environment_variables": {},
      "exception": null,
      "input_path": "__notebook__.ipynb",
      "output_path": "__notebook__.ipynb",
      "parameters": {},
      "start_time": "2022-05-28T14:48:40.112268",
      "version": "2.3.4"
    },
    "colab": {
      "name": "pubmed-api.ipynb",
      "provenance": [],
      "collapsed_sections": [
        "hDQM44MmPaWE",
        "F7xAluAv1No7"
      ]
    }
  },
  "nbformat": 4,
  "nbformat_minor": 5
}